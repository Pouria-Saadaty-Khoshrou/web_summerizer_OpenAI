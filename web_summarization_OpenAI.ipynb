{
 "cells": [
  {
   "cell_type": "code",
   "execution_count": 1,
   "id": "6bfd648e-2cba-4817-819e-4327995d57a4",
   "metadata": {},
   "outputs": [],
   "source": [
    "import os\n",
    "import requests\n",
    "from openai import OpenAI\n",
    "from bs4 import BeautifulSoup\n",
    "from dotenv import load_dotenv\n",
    "from IPython.display import Markdown, display"
   ]
  },
  {
   "cell_type": "code",
   "execution_count": 6,
   "id": "9a4affc8-84f7-4619-80b2-973e145101d7",
   "metadata": {},
   "outputs": [],
   "source": [
    "load_dotenv(override=True)\n",
    "api_key = os.getenv('OPENAI_API_KEY')\n",
    "openai = OpenAI()"
   ]
  },
  {
   "cell_type": "code",
   "execution_count": 7,
   "id": "a0748e87-4bec-4883-a620-2b42562cba03",
   "metadata": {},
   "outputs": [],
   "source": [
    "headers = {\n",
    " \"User-Agent\": \"Mozilla/5.0 (Windows NT 10.0; Win64; x64) AppleWebKit/537.36 (KHTML, like Gecko) Chrome/117.0.0.0 Safari/537.36\"\n",
    "}\n",
    "\n",
    "class Website:\n",
    "    \n",
    "    def __init__(self, url):\n",
    "        self.url = url\n",
    "        response = requests.get(url, headers=headers)\n",
    "        soup = BeautifulSoup(response.content, 'html.parser')\n",
    "        self.title = soup.title.string if soup.title else 'No Title'\n",
    "        for irrelevent in soup.body([\"script\", \"style\", \"img\", \"input\"]):\n",
    "            irrelevent.decompose()\n",
    "        self.text = soup.body.get_text(separator='\\n', strip=True)"
   ]
  },
  {
   "cell_type": "code",
   "execution_count": 8,
   "id": "0ef68370-2733-4742-90a8-15d9cb5593a1",
   "metadata": {},
   "outputs": [
    {
     "name": "stdout",
     "output_type": "stream",
     "text": [
      "Home - Edward Donner\n",
      "Home\n",
      "Connect Four\n",
      "Outsmart\n",
      "An arena that pits LLMs against each other in a battle of diplomacy and deviousness\n",
      "About\n",
      "Posts\n",
      "Well, hi there.\n",
      "I’m Ed. I like writing code and experimenting with LLMs, and hopefully you’re here because you do too. I also enjoy DJing (but I’m badly out of practice), amateur electronic music production (\n",
      "very\n",
      "amateur) and losing myself in\n",
      "Hacker News\n",
      ", nodding my head sagely to things I only half understand.\n",
      "I’m the co-founder and CTO of\n",
      "Nebula.io\n",
      ". We’re applying AI to a field where it can make a massive, positive impact: helping people discover their potential and pursue their reason for being. Recruiters use our product today to source, understand, engage and manage talent. I’m previously the founder and CEO of AI startup untapt,\n",
      "acquired in 2021\n",
      ".\n",
      "We work with groundbreaking, proprietary LLMs verticalized for talent, we’ve\n",
      "patented\n",
      "our matching model, and our award-winning platform has happy customers and tons of press coverage.\n",
      "Connect\n",
      "with me for more!\n",
      "January 23, 2025\n",
      "LLM Workshop – Hands-on with Agents – resources\n",
      "December 21, 2024\n",
      "Welcome, SuperDataScientists!\n",
      "November 13, 2024\n",
      "Mastering AI and LLM Engineering – Resources\n",
      "October 16, 2024\n",
      "From Software Engineer to AI Data Scientist – resources\n",
      "Navigation\n",
      "Home\n",
      "Connect Four\n",
      "Outsmart\n",
      "An arena that pits LLMs against each other in a battle of diplomacy and deviousness\n",
      "About\n",
      "Posts\n",
      "Get in touch\n",
      "ed [at] edwarddonner [dot] com\n",
      "www.edwarddonner.com\n",
      "Follow me\n",
      "LinkedIn\n",
      "Twitter\n",
      "Facebook\n",
      "Subscribe to newsletter\n",
      "Type your email…\n",
      "Subscribe\n"
     ]
    }
   ],
   "source": [
    "ed = Website(\"https://edwarddonner.com\")\n",
    "print(ed.title)\n",
    "print(ed.text)"
   ]
  },
  {
   "cell_type": "code",
   "execution_count": 58,
   "id": "ac02c5c0-06cf-478e-88b1-f4c22b43cc3f",
   "metadata": {},
   "outputs": [],
   "source": [
    "system_prompt = \"You are given the content of a website. Your task is to:\\n\\\n",
    "- Extract and return the **title** of the page, if one exists.\\n\\\n",
    "- Provide a **summary** of the main body content.\\n\\\n",
    "- **Ignore** navigation menus, headers, footers, or sidebars.\\n\\\n",
    "- At the end, if there is an email address, return it in standard email format (e.g., john@example.com), not obfuscated.\""
   ]
  },
  {
   "cell_type": "code",
   "execution_count": 59,
   "id": "860b60ef-2066-4ffd-8795-3e084ec7e074",
   "metadata": {},
   "outputs": [
    {
     "name": "stdout",
     "output_type": "stream",
     "text": [
      "You are given the content of a website. Your task is to:\n",
      "- Extract and return the **title** of the page, if one exists.\n",
      "- Provide a **summary** of the main body content.\n",
      "- **Ignore** navigation menus, headers, footers, or sidebars.\n",
      "- At the end, if there is an email address, return it in standard email format (e.g., john@example.com), not obfuscated.\n"
     ]
    }
   ],
   "source": [
    "print(system_prompt)"
   ]
  },
  {
   "cell_type": "code",
   "execution_count": 42,
   "id": "55094642-5e35-41d3-8292-6da541277fb4",
   "metadata": {},
   "outputs": [],
   "source": [
    "def user_prompt_for(website):\n",
    "    user_prompt = f\"You are looking at a website titled {website.title}\"\n",
    "    user_prompt += \"\\nThe contents of this website is as follows; \\\n",
    "please provide a short summary of this website in markdown. \\\n",
    "If it includes news or announcements, then summarize these too.\\n\\n\"\n",
    "    user_prompt += website.text\n",
    "    return user_prompt"
   ]
  },
  {
   "cell_type": "code",
   "execution_count": 43,
   "id": "bc097af5-0207-4e3a-81e9-1918247b3f6f",
   "metadata": {},
   "outputs": [],
   "source": [
    "def messages_for(website):\n",
    "    return [\n",
    "        {\"role\": \"system\", \"content\": system_prompt},\n",
    "        {\"role\": \"user\", \"content\": user_prompt_for(website)}\n",
    "    ]"
   ]
  },
  {
   "cell_type": "code",
   "execution_count": 60,
   "id": "e728403f-576d-47d7-b4c5-f10c60cb92ca",
   "metadata": {},
   "outputs": [],
   "source": [
    "def summarize():\n",
    "    web_url = input('Provide URL: ')\n",
    "    web_url = Website(web_url)\n",
    "    response = openai.chat.completions.create(model = 'gpt-4o-mini', messages=messages_for(web_url))\n",
    "    return response.choices[0].message.content"
   ]
  },
  {
   "cell_type": "code",
   "execution_count": 61,
   "id": "0180a851-4827-42d8-bbce-1b787f3ac699",
   "metadata": {},
   "outputs": [],
   "source": [
    "def display_summarize(response):\n",
    "    display(Markdown(response))"
   ]
  },
  {
   "cell_type": "code",
   "execution_count": 63,
   "id": "f01e5dc8-cde9-4cbb-97ef-76b385f52b25",
   "metadata": {},
   "outputs": [
    {
     "name": "stdin",
     "output_type": "stream",
     "text": [
      "Provide URL:  https://www.bbc.com/\n"
     ]
    },
    {
     "data": {
      "text/markdown": [
       "# BBC Home - Breaking News, World News, US News, Sports, Business, Innovation, Climate, Culture, Travel, Video & Audio\n",
       "\n",
       "## Summary\n",
       "\n",
       "The BBC Home page provides comprehensive coverage of current events across various domains including news, sports, business, and culture. Major headlines include:\n",
       "\n",
       "- **Trump's 'Liberation Day' Tariffs**: Anticipation builds around President Trump's upcoming announcement regarding new import taxes, with analysis from Erin Delmore.\n",
       "- **Myanmar Earthquake**: A report details the impact of a devastating earthquake that killed many during Friday prayers, with a focus on individual stories of loss.\n",
       "- **Political Updates**: Coverage includes a Republican victory in a special election in Florida and Cory Booker's record-breaking Senate speech against the Trump agenda.\n",
       "- **International Developments**: Includes reporting from Sudan’s capital after significant destruction and rising geopolitical tensions regarding tariffs.\n",
       "\n",
       "Additionally, various news segments cover cultural topics, environmental issues, and scientific advancements reflecting a broad spectrum of interests and concerns.\n",
       "\n",
       "### Email\n",
       "\n",
       "There is no email address provided on the page content."
      ],
      "text/plain": [
       "<IPython.core.display.Markdown object>"
      ]
     },
     "metadata": {},
     "output_type": "display_data"
    }
   ],
   "source": [
    "response = summarize()\n",
    "display_summarize(response)"
   ]
  }
 ],
 "metadata": {
  "kernelspec": {
   "display_name": "Python 3 (ipykernel)",
   "language": "python",
   "name": "python3"
  },
  "language_info": {
   "codemirror_mode": {
    "name": "ipython",
    "version": 3
   },
   "file_extension": ".py",
   "mimetype": "text/x-python",
   "name": "python",
   "nbconvert_exporter": "python",
   "pygments_lexer": "ipython3",
   "version": "3.11.11"
  }
 },
 "nbformat": 4,
 "nbformat_minor": 5
}
